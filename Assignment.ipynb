{
 "cells": [
  {
   "cell_type": "markdown",
   "id": "dee70dc7-0491-43eb-b62e-71113c69cb69",
   "metadata": {},
   "source": [
    "Q1. ## FOR LOOP -The For loop is used to run a block of code for a certain number of times. it is used to iterate over any \n",
    "    ## sequences such as list, string, tuple etc.\n",
    "    ## EXAMPLE"
   ]
  },
  {
   "cell_type": "code",
   "execution_count": 6,
   "id": "a423fd7e-64f3-49cd-8d7c-3b1297a84747",
   "metadata": {},
   "outputs": [
    {
     "name": "stdout",
     "output_type": "stream",
     "text": [
      "1\n",
      "2\n",
      "3\n",
      "4\n",
      "5\n",
      "6\n",
      "7\n",
      "8\n"
     ]
    }
   ],
   "source": [
    "A = [1,2,3,4,5,6,7,8]\n",
    "for a in A :\n",
    "    print (a)"
   ]
  },
  {
   "cell_type": "markdown",
   "id": "12fdebd8-193c-4991-906d-b1163eb8b8ff",
   "metadata": {},
   "source": [
    "## WHILE LOOP - While loop is used to run a block code until a certain condition is met.\n",
    "## a while loop evaluates the contion. if the condition evaluates to true, the code inside the while loop is executed.\n",
    "## condition is evaluadted again. the process continues until the contion is false. when condition evaluates to false, the loop stops.\n",
    "##EXAMPLE\n",
    "\n"
   ]
  },
  {
   "cell_type": "code",
   "execution_count": 10,
   "id": "e1dc16fe-ca42-41a5-87fc-e8c40348c2f9",
   "metadata": {},
   "outputs": [
    {
     "name": "stdout",
     "output_type": "stream",
     "text": [
      "1\n",
      "2\n",
      "3\n",
      "4\n",
      "5\n",
      "6\n",
      "7\n",
      "8\n"
     ]
    }
   ],
   "source": [
    "a = 1\n",
    "while a <= 8:\n",
    "    print (a)\n",
    "    a = a+1"
   ]
  },
  {
   "cell_type": "markdown",
   "id": "546b709a-2ef3-44ad-976b-ba144a7e0eb5",
   "metadata": {},
   "source": [
    "Q2 . using for loop"
   ]
  },
  {
   "cell_type": "code",
   "execution_count": 7,
   "id": "bedfea5c-aca9-44d7-bd99-cbd78726b9f6",
   "metadata": {},
   "outputs": [
    {
     "name": "stdout",
     "output_type": "stream",
     "text": [
      "55\n"
     ]
    }
   ],
   "source": [
    "# sum of 10 natural number\n",
    "a = [1,2,3,4,5,6,7,8,9,10]\n",
    "b = 0\n",
    "for i in a:\n",
    "    b= b+i\n",
    "print(b)        "
   ]
  },
  {
   "cell_type": "code",
   "execution_count": 8,
   "id": "5e41854d-1700-4a7e-b4d3-160b70ae5cf1",
   "metadata": {},
   "outputs": [
    {
     "name": "stdout",
     "output_type": "stream",
     "text": [
      "3628800\n"
     ]
    }
   ],
   "source": [
    "# product of 10 natural number\n",
    "a = [1,2,3,4,5,6,7,8,9,10]\n",
    "b = 1\n",
    "for i in a:\n",
    "    b = b*i\n",
    "print(b)    "
   ]
  },
  {
   "cell_type": "markdown",
   "id": "ddd3716d-1d3b-4f47-8c0b-e8eb8f2253e3",
   "metadata": {},
   "source": [
    "using While loop"
   ]
  },
  {
   "cell_type": "code",
   "execution_count": 4,
   "id": "f8c39dce-1a84-4d5b-8bfe-1b0202fce069",
   "metadata": {},
   "outputs": [
    {
     "name": "stdout",
     "output_type": "stream",
     "text": [
      "Enter the Value of n:\n"
     ]
    },
    {
     "name": "stdin",
     "output_type": "stream",
     "text": [
      " 5\n"
     ]
    },
    {
     "name": "stdout",
     "output_type": "stream",
     "text": [
      "total 15\n"
     ]
    }
   ],
   "source": [
    "# sum fo n natural number\n",
    "print(\"Enter the Value of n:\")\n",
    "n = int(input())\n",
    "sum = 0\n",
    "counter = 1\n",
    "while counter <= n:\n",
    "    sum = sum + counter\n",
    "    counter = counter + 1\n",
    "print(\"total\",sum)    "
   ]
  },
  {
   "cell_type": "code",
   "execution_count": 1,
   "id": "09323503-5f9c-4e37-a167-5bfbf9a4cd84",
   "metadata": {},
   "outputs": [
    {
     "name": "stdout",
     "output_type": "stream",
     "text": [
      "Enter the number of n:\n"
     ]
    },
    {
     "name": "stdin",
     "output_type": "stream",
     "text": [
      " 4\n"
     ]
    },
    {
     "name": "stdout",
     "output_type": "stream",
     "text": [
      "total 24\n"
     ]
    }
   ],
   "source": [
    "# product of n natural number\n",
    "print(\"Enter the number of n:\")\n",
    "n = int(input())\n",
    "product = 1\n",
    "while n > 0:\n",
    "    product = product * n\n",
    "    n = n-1\n",
    "print(\"total\", product)    "
   ]
  },
  {
   "cell_type": "markdown",
   "id": "58799723-b6e2-4ec3-8243-dc636f895fd5",
   "metadata": {},
   "source": [
    "Q3. bill code"
   ]
  },
  {
   "cell_type": "code",
   "execution_count": 11,
   "id": "0624902d-0888-4065-929d-9f6911f05f8d",
   "metadata": {},
   "outputs": [
    {
     "name": "stdin",
     "output_type": "stream",
     "text": [
      "Enter your Bill unit: 310\n"
     ]
    },
    {
     "name": "stdout",
     "output_type": "stream",
     "text": [
      "2250\n"
     ]
    }
   ],
   "source": [
    "unit = int(input(\"Enter your Bill unit:\"))\n",
    "if unit <= 100:\n",
    "    bill = unit * 4.5\n",
    "elif unit >=101 and unit <=200:\n",
    "    bill = 450 + ((unit - 100) * 6)\n",
    "elif unit >=201 and unit <=300:\n",
    "    bill = 450 + 600 + ((unit- 200) * 10)\n",
    "else:\n",
    "    bill = 450 + 600 + 1000 + ((unit-300) * 20)\n",
    "print(bill)    "
   ]
  },
  {
   "cell_type": "code",
   "execution_count": 2,
   "id": "dd100952-9387-4605-8d9a-7667e7ed7e2c",
   "metadata": {},
   "outputs": [
    {
     "name": "stdout",
     "output_type": "stream",
     "text": [
      "[1, 8, 27, 64, 125, 216, 343, 512, 729, 1000, 1331, 1728, 2197, 2744, 3375, 4096, 4913, 5832, 6859, 8000, 9261, 10648, 12167, 13824, 15625, 17576, 19683, 21952, 24389, 27000, 29791, 32768, 35937, 39304, 42875, 46656, 50653, 54872, 59319, 64000, 68921, 74088, 79507, 85184, 91125, 97336, 103823, 110592, 117649, 125000, 132651, 140608, 148877, 157464, 166375, 175616, 185193, 195112, 205379, 216000, 226981, 238328, 250047, 262144, 274625, 287496, 300763, 314432, 328509, 343000, 357911, 373248, 389017, 405224, 421875, 438976, 456533, 474552, 493039, 512000, 531441, 551368, 571787, 592704, 614125, 636056, 658503, 681472, 704969, 729000, 753571, 778688, 804357, 830584, 857375, 884736, 912673, 941192, 970299, 1000000]\n"
     ]
    }
   ],
   "source": [
    "#Q4.\n",
    "l= []\n",
    "for i in range(1,101):\n",
    "    l.append(i**3)\n",
    "print(l)"
   ]
  },
  {
   "cell_type": "code",
   "execution_count": 3,
   "id": "e6e93c40-f62a-4c4f-9310-8ce873f8010d",
   "metadata": {},
   "outputs": [
    {
     "name": "stdout",
     "output_type": "stream",
     "text": [
      "[8, 64, 125, 216, 512, 1000, 1728, 2744, 3375, 4096, 5832, 8000, 10648, 13824, 15625, 17576, 21952, 27000, 32768, 39304, 42875, 46656, 54872, 64000, 74088, 85184, 91125, 97336, 110592, 125000, 140608, 157464, 166375, 175616, 195112, 216000, 238328, 262144, 274625, 287496, 314432, 343000, 373248, 405224, 421875, 438976, 474552, 512000, 551368, 592704, 614125, 636056, 681472, 729000, 778688, 830584, 857375, 884736, 941192, 1000000]\n"
     ]
    }
   ],
   "source": [
    "l1 = []\n",
    "for i in l:\n",
    "    if(i % 4 == 0 or i % 5 == 0):\n",
    "        l1.append(i)\n",
    "print(l1)        \n",
    "        "
   ]
  },
  {
   "cell_type": "code",
   "execution_count": 7,
   "id": "c48ba775-acd3-4f0c-9496-ade8c7698a61",
   "metadata": {},
   "outputs": [
    {
     "name": "stdout",
     "output_type": "stream",
     "text": [
      "vowels in the below-given string: 12\n"
     ]
    }
   ],
   "source": [
    "#Q5.   \n",
    "a = \"I want to become a data scientist\"\n",
    "b = a.lower()\n",
    "count = 0\n",
    "c = [\"a\", \"e\", \"i\", \"o\", \"u\"]\n",
    "for i in b:\n",
    "    if i in c:\n",
    "        count = count+1\n",
    "print(\"vowels in the below-given string:\", count)        "
   ]
  },
  {
   "cell_type": "code",
   "execution_count": null,
   "id": "7851a2c4-613c-4e63-8766-7e313e0d0db3",
   "metadata": {},
   "outputs": [],
   "source": []
  },
  {
   "cell_type": "code",
   "execution_count": null,
   "id": "b30028b5-2673-487a-9c9b-58687848ab84",
   "metadata": {},
   "outputs": [],
   "source": []
  }
 ],
 "metadata": {
  "kernelspec": {
   "display_name": "Python 3 (ipykernel)",
   "language": "python",
   "name": "python3"
  },
  "language_info": {
   "codemirror_mode": {
    "name": "ipython",
    "version": 3
   },
   "file_extension": ".py",
   "mimetype": "text/x-python",
   "name": "python",
   "nbconvert_exporter": "python",
   "pygments_lexer": "ipython3",
   "version": "3.10.8"
  }
 },
 "nbformat": 4,
 "nbformat_minor": 5
}
